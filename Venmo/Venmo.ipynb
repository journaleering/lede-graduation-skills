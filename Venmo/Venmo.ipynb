{
 "cells": [
  {
   "cell_type": "markdown",
   "metadata": {},
   "source": [
    "# Venmo `3 points`\n",
    "\n",
    "Venmo is used for two things:\n",
    "\n",
    "1. Sending money to people\n",
    "2. Spying on people sending money to people\n",
    "\n",
    "For some reason, they have (...had) a public API. You can find it here: https://venmo.com/api/v5/public\n",
    "\n",
    "**Topics covered:**\n",
    "\n",
    "* APIs\n",
    "\n",
    "## Using the Venmo API  `3 points`\n",
    "\n",
    "### Make a _successful_ request to the Venmo API\n",
    "\n",
    "You'll need to pretend to be a browser."
   ]
  },
  {
   "cell_type": "code",
   "execution_count": 2,
   "metadata": {},
   "outputs": [
    {
     "data": {
      "text/plain": [
       "{'error': {'message': 'Not Found'}}"
      ]
     },
     "execution_count": 2,
     "metadata": {},
     "output_type": "execute_result"
    }
   ],
   "source": [
    "import requests\n",
    "import pandas as pd\n",
    "\n",
    "user_agent = \"scrapping_script/1.0\"\n",
    "headers = {'User-Agent': user_agent}\n",
    "\n",
    "URL = 'https://venmo.com/api/v5/public'\n",
    "response = requests.get(URL, headers=headers, stream = True).json()\n",
    "\n",
    "response"
   ]
  },
  {
   "cell_type": "markdown",
   "metadata": {},
   "source": [
    "### How many results do you get by default?"
   ]
  },
  {
   "cell_type": "markdown",
   "metadata": {},
   "source": [
    "Sadly there are no results to search in, because the API doesn't send data anymore. "
   ]
  },
  {
   "cell_type": "markdown",
   "metadata": {},
   "source": [
    "### Print out each transaction's username and message"
   ]
  },
  {
   "cell_type": "code",
   "execution_count": null,
   "metadata": {},
   "outputs": [],
   "source": [
    "#can't answer, question is not up to date"
   ]
  },
  {
   "cell_type": "markdown",
   "metadata": {},
   "source": [
    "### Being lazy and effective `1 point`\n",
    "\n",
    "Convert the list of transactions into a dataframe."
   ]
  },
  {
   "cell_type": "code",
   "execution_count": null,
   "metadata": {},
   "outputs": [],
   "source": [
    "#can't answer, question is not up to date"
   ]
  },
  {
   "cell_type": "markdown",
   "metadata": {},
   "source": [
    "## But now: to reality\n",
    "\n",
    "You should cry a little bit, because **this data isn't real**. It *used* to be real, but it isn't any more, because Venmo finally decided it was a bit too much of an invasion of privacy."
   ]
  },
  {
   "cell_type": "code",
   "execution_count": null,
   "metadata": {},
   "outputs": [],
   "source": [
    "#can't answer, question is not up to date"
   ]
  }
 ],
 "metadata": {
  "kernelspec": {
   "display_name": "Python 3",
   "language": "python",
   "name": "python3"
  },
  "language_info": {
   "codemirror_mode": {
    "name": "ipython",
    "version": 3
   },
   "file_extension": ".py",
   "mimetype": "text/x-python",
   "name": "python",
   "nbconvert_exporter": "python",
   "pygments_lexer": "ipython3",
   "version": "3.8.10"
  }
 },
 "nbformat": 4,
 "nbformat_minor": 4
}
